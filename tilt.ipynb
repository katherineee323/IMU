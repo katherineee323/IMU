{
 "cells": [
  {
   "cell_type": "code",
   "execution_count": 2,
   "id": "34317e94-a928-495f-bacb-daf568226050",
   "metadata": {},
   "outputs": [],
   "source": [
    "import matplotlib.pyplot as plt"
   ]
  },
  {
   "cell_type": "code",
   "execution_count": null,
   "id": "bab776d0-b0b8-45b1-895f-148f863f3583",
   "metadata": {},
   "outputs": [],
   "source": [
    "Acc = []\n",
    "Gyro = []\n",
    "Ang = []\n",
    "Mag = []\n",
    "with open(\"data.txt\",'r') as file:\n",
    "    for lines in file.readlines():"
   ]
  }
 ],
 "metadata": {
  "kernelspec": {
   "display_name": "Python [conda env:base] *",
   "language": "python",
   "name": "conda-base-py"
  },
  "language_info": {
   "codemirror_mode": {
    "name": "ipython",
    "version": 3
   },
   "file_extension": ".py",
   "mimetype": "text/x-python",
   "name": "python",
   "nbconvert_exporter": "python",
   "pygments_lexer": "ipython3",
   "version": "3.12.7"
  }
 },
 "nbformat": 4,
 "nbformat_minor": 5
}
